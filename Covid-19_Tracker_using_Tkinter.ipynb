{
 "cells": [
  {
   "cell_type": "code",
   "execution_count": 30,
   "metadata": {},
   "outputs": [],
   "source": [
    "import covid\n",
    "import tkinter as tk\n",
    "import matplotlib.pyplot as plt\n",
    "import seaborn as sns\n",
    "import pandas as pd"
   ]
  },
  {
   "cell_type": "code",
   "execution_count": 31,
   "metadata": {},
   "outputs": [],
   "source": [
    "def show_data():\n",
    "    data=covid.Covid()\n",
    "    country_name = e1.get()\n",
    "    status = data.get_status_by_country_name(country_name)\n",
    "    active = status['active']\n",
    "    e2.insert(0,active)\n",
    "    death = status['deaths']\n",
    "    e3.insert(0,death)\n",
    "    confirm = status['confirmed']\n",
    "    e4.insert(0,confirm)\n",
    "    recover = status['recovered']\n",
    "    e5.insert(0,recover)\n",
    "    print(status)\n",
    "    data = {     'id': status['id'],\n",
    "            'Country': status['country'],\n",
    "            'Confirmed': status['confirmed'],\n",
    "            'Active': status['active'],\n",
    "            'Deaths': status['deaths'],\n",
    "            'Recovered': status['recovered'],\n",
    "            'Latitude': status['latitude'],\n",
    "            'Longitude': status['longitude'],\n",
    "            'Last_Updated': status['last_update']\n",
    "            }\n",
    "\n",
    "    df = pd.DataFrame(data,index=[0])\n",
    "    print(df)\n",
    "\n",
    "    cadr = {\n",
    "    key:status[key]\n",
    "     for key in status.keys() & {\"confirmed\",\"active\",\"deaths\",\"recovered\"}\n",
    "    }\n",
    "    n = list(cadr.keys())\n",
    "    v = list(cadr.values())\n",
    "    plt.title(\"Country\")\n",
    "    plt.bar(range(len(cadr)),v,tick_label=n,label=('active'))\n",
    "    plt.xlabel('x-labels')\n",
    "    plt.ylabel('data')\n",
    "    plt.plot(range(len(cadr)))\n",
    "    plt.show()\n",
    "    "
   ]
  },
  {
   "cell_type": "code",
   "execution_count": 32,
   "metadata": {},
   "outputs": [
    {
     "name": "stdout",
     "output_type": "stream",
     "text": [
      "{'id': '80', 'country': 'India', 'confirmed': 3044940, 'active': 707668, 'deaths': 56706, 'recovered': 2280566, 'latitude': 20.593684, 'longitude': 78.96288, 'last_update': 1598182074000}\n",
      "   id Country  Confirmed  Active  Deaths  Recovered   Latitude  Longitude  \\\n",
      "0  80   India    3044940  707668   56706    2280566  20.593684   78.96288   \n",
      "\n",
      "    Last_Updated  \n",
      "0  1598182074000  \n",
      "{'id': '80', 'country': 'India', 'confirmed': 3044940, 'active': 707668, 'deaths': 56706, 'recovered': 2280566, 'latitude': 20.593684, 'longitude': 78.96288, 'last_update': 1598182074000}\n",
      "   id Country  Confirmed  Active  Deaths  Recovered   Latitude  Longitude  \\\n",
      "0  80   India    3044940  707668   56706    2280566  20.593684   78.96288   \n",
      "\n",
      "    Last_Updated  \n",
      "0  1598182074000  \n"
     ]
    },
    {
     "data": {
      "image/png": "[encoded data removed]",
      "text/plain": [
       "<Figure size 432x288 with 1 Axes>"
      ]
     },
     "metadata": {
      "needs_background": "light"
     },
     "output_type": "display_data"
    }
   ],
   "source": [
    "\n",
    "\n",
    "master = tk.Tk()\n",
    "master.title(\"Covid-19 Country Status\")\n",
    "tk.Label(master,text=\"COVID-19 COUNTRY STATUS\",padx=50).grid(row=0)\n",
    "tk.Label(master,text=\"Enter your Country's Name: -\").grid(row=2)\n",
    "e1 = tk.Entry(master)\n",
    "e1.grid(row=2,column=2)\n",
    "tk.Button(master,text='Show',command=show_data).grid(row=5,column=3,sticky=tk.W,pady=4)\n",
    "\n",
    "tk.Label(master,text=\"Active Cases : - \").grid(row=8)\n",
    "e2 = tk.Entry(master)\n",
    "e2.grid(row=8,column=3)\n",
    "tk.Label(master,text=\"Death cases : - \").grid(row=9)\n",
    "e3 = tk.Entry(master)\n",
    "e3.grid(row=9,column=3)\n",
    "tk.Label(master,text=\"Confirmed Cases: - \").grid(row=10)\n",
    "e4 = tk.Entry(master)\n",
    "e4.grid(row=10,column=3)\n",
    "tk.Label(master,text=\"Recovered Cases : - \").grid(row=11)\n",
    "e5 = tk.Entry(master)\n",
    "e5.grid(row=11,column=3)\n",
    "\n",
    "master.mainloop()\n"
   ]
  },
  {
   "cell_type": "code",
   "execution_count": null,
   "metadata": {},
   "outputs": [],
   "source": []
  },
  {
   "cell_type": "code",
   "execution_count": null,
   "metadata": {},
   "outputs": [],
   "source": []
  }
 ],
 "metadata": {
  "kernelspec": {
   "display_name": "Python 3",
   "language": "python",
   "name": "python3"
  },
  "language_info": {
   "codemirror_mode": {
    "name": "ipython",
    "version": 3
   },
   "file_extension": ".py",
   "mimetype": "text/x-python",
   "name": "python",
   "nbconvert_exporter": "python",
   "pygments_lexer": "ipython3",
   "version": "3.7.3"
  }
 },
 "nbformat": 4,
 "nbformat_minor": 2
}
